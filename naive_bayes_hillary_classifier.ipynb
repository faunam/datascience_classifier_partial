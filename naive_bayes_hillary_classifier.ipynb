{
 "cells": [
  {
   "cell_type": "code",
   "execution_count": 6,
   "metadata": {
    "colab": {},
    "colab_type": "code",
    "id": "rWj3GYr_wwuk"
   },
   "outputs": [],
   "source": [
    "import re\n",
    "import math\n",
    "from collections import Counter\n",
    "from functools import reduce \n",
    "import numpy as np\n",
    "from matplotlib import pyplot as plt\n",
    "import seaborn as sns\n",
    "from sklearn.metrics import confusion_matrix"
   ]
  },
  {
   "cell_type": "markdown",
   "metadata": {},
   "source": [
    "# Creating Naive Bayes classifier"
   ]
  },
  {
   "cell_type": "code",
   "execution_count": 7,
   "metadata": {},
   "outputs": [],
   "source": [
    "# I reused some of the code from problem set 2 to make naive Bayes classifiers for Reddit comments \n",
    "# in a given community based on their valence (positive or negative net score).\n",
    "\n",
    "pos_comm_token_counts = Counter() #token counts for positive comments\n",
    "pos_comm_count = 0 #number of positive comments\n",
    "neg_comm_token_counts = Counter() #token counts for negative comments\n",
    "neg_comm_count = 0 #number of negative comments\n",
    "\n",
    "token_pattern = re.compile(\"\\w+\")\n",
    "\n",
    "h_pos_test_set = []\n",
    "h_neg_test_set = []"
   ]
  },
  {
   "cell_type": "code",
   "execution_count": 8,
   "metadata": {},
   "outputs": [
    {
     "name": "stdout",
     "output_type": "stream",
     "text": [
      "1074\n",
      "859.2\n"
     ]
    }
   ],
   "source": [
    "with open(\"hillaryclinton_pos_comms.txt\", \"r\")as inf:\n",
    "    #create positive comment and token counts\n",
    "    pfile = inf.readlines()\n",
    "    testing_lim = len(pfile) - (len(pfile) * .2)\n",
    "    for line in pfile: \n",
    "        if pos_comm_count >= testing_lim: #reserve 20% for testing\n",
    "            h_pos_test_set.append(line)\n",
    "        else: \n",
    "            pos_comm_token_counts.update(token_pattern.findall(line))\n",
    "            pos_comm_count += 1\n",
    "        \n",
    "  \n",
    "with open(\"hillaryclinton_neg_comms.txt\", \"r\")as infn:\n",
    "    #create negative comment and token counts\n",
    "    nfile = infn.readlines()\n",
    "    print (len(nfile))\n",
    "    testing_lim = len(nfile) - (len(nfile) * .2)\n",
    "    print(len(nfile) - (len(nfile) * .2))\n",
    "    for line in nfile:\n",
    "        if neg_comm_count >= testing_lim: #reserve 20% for testing\n",
    "            \n",
    "            h_neg_test_set.append(line)\n",
    "        else:\n",
    "            neg_comm_token_counts.update(token_pattern.findall(line))\n",
    "            neg_comm_count += 1"
   ]
  },
  {
   "cell_type": "code",
   "execution_count": 9,
   "metadata": {},
   "outputs": [],
   "source": [
    "# #write test arrays to files to feed into classify()\n",
    "# with open(\"hillaryclinton_test_pos_comms.txt\", \"w\") as out: \n",
    "#     for x in h_pos_test_set:\n",
    "#         out.write(x)\n",
    "        \n",
    "# with open(\"hillaryclinton_test_neg_comms.txt\", \"w\") as out: \n",
    "#     for x in h_neg_test_set:\n",
    "#         out.write(x)"
   ]
  },
  {
   "cell_type": "code",
   "execution_count": 10,
   "metadata": {
    "colab": {
     "base_uri": "https://localhost:8080/",
     "height": 34
    },
    "colab_type": "code",
    "id": "S6D6QshMLkBs",
    "outputId": "3833c475-00f1-465c-93a2-289ba27be82b"
   },
   "outputs": [
    {
     "name": "stdout",
     "output_type": "stream",
     "text": [
      "0.7862823061630219\n",
      "3164\n",
      "860\n"
     ]
    }
   ],
   "source": [
    "P_pos = pos_comm_count/(pos_comm_count + neg_comm_count)\n",
    "print (P_pos) #.78 because there are more positive comments than negative\n",
    "print (pos_comm_count)\n",
    "print (neg_comm_count)"
   ]
  },
  {
   "cell_type": "code",
   "execution_count": 11,
   "metadata": {
    "colab": {
     "base_uri": "https://localhost:8080/",
     "height": 51
    },
    "colab_type": "code",
    "id": "cIg2FMAQLkB6",
    "outputId": "3f3f19a9-44d4-4ac4-ef13-1050719ce936"
   },
   "outputs": [],
   "source": [
    "num_pos_tokens = sum(pos_comm_token_counts.values())\n",
    "num_neg_tokens = sum(neg_comm_token_counts.values())"
   ]
  },
  {
   "cell_type": "code",
   "execution_count": 12,
   "metadata": {
    "colab": {
     "base_uri": "https://localhost:8080/",
     "height": 34
    },
    "colab_type": "code",
    "id": "baJt8IvNLkCd",
    "outputId": "8366e0bc-c38f-4eb6-a7dc-b274bf219460"
   },
   "outputs": [
    {
     "name": "stdout",
     "output_type": "stream",
     "text": [
      "16814\n"
     ]
    }
   ],
   "source": [
    "both_counts = pos_comm_token_counts + neg_comm_token_counts\n",
    "both_tokens = sum(both_counts.values()) #total tokens across both pos and neg comments\n",
    "vocabulary_size = len(both_counts)\n",
    "print(vocabulary_size)"
   ]
  },
  {
   "cell_type": "code",
   "execution_count": 13,
   "metadata": {
    "colab": {
     "base_uri": "https://localhost:8080/",
     "height": 204
    },
    "colab_type": "code",
    "id": "LIdvYefiLkCk",
    "outputId": "4e980250-93c0-4532-f4e4-99a5f2e2bd38"
   },
   "outputs": [],
   "source": [
    "#smoothed probabilities to more gracefully handle words not in vocabulary\n",
    "def smoothed_word_log_prob(word, counter, summ):\n",
    "    # smoothed log probability that [word] will occur given valence token counts [counter] \n",
    "    # and valence token total [summ] \n",
    "    return math.log((counter[word] + 1)/(summ + vocabulary_size))\n",
    "\n",
    "def smoothed_comm_log_prob(phrase, counter, summ):\n",
    "    #smoothed log probability that [phrase] will occur given valence token counts [counter] \n",
    "    # and valence token total [summ] \n",
    "    phrase_tokens = token_pattern.findall(phrase)\n",
    "    phrase_prob = reduce((lambda x, y: x+y), [smoothed_word_log_prob(token, counter, summ) for token in phrase_tokens])  \n",
    "    return phrase_prob"
   ]
  },
  {
   "cell_type": "code",
   "execution_count": 14,
   "metadata": {},
   "outputs": [
    {
     "name": "stdout",
     "output_type": "stream",
     "text": [
      "*pos word probs*\n",
      "-6.225611279407289\n",
      "\n",
      "*neg word probs*\n",
      "-6.2066919561965435\n"
     ]
    }
   ],
   "source": [
    "print (\"*pos word probs*\")\n",
    "print(smoothed_word_log_prob(\"Bernie\", pos_comm_token_counts, num_pos_tokens))\n",
    "print (\"\\n*neg word probs*\")\n",
    "print(smoothed_word_log_prob(\"Bernie\", neg_comm_token_counts, num_neg_tokens))\n",
    "#maybe try slurs? tried so far: sucks, wrong, bernie, maga"
   ]
  },
  {
   "cell_type": "code",
   "execution_count": 15,
   "metadata": {},
   "outputs": [],
   "source": [
    "log_P_pos = math.log(pos_comm_count/(pos_comm_count + neg_comm_count)) #log probability that any given comment is pos\n",
    "log_P_neg = math.log(neg_comm_count/(pos_comm_count + neg_comm_count)) #log probability that any given comment is neg\n",
    "\n",
    "def classifier_score(comment):\n",
    "    # returns the classifier score for a string [comment]. the score is the log of the ratio of \n",
    "    # the probability of [comment] scoring positively to the probability of [comment] scoring negatively.\n",
    "    log_P_words_given_pos = smoothed_comm_log_prob(comment, pos_comm_token_counts, num_pos_tokens)\n",
    "    log_P_words_given_neg = smoothed_comm_log_prob(comment, neg_comm_token_counts, num_neg_tokens)\n",
    "    return (log_P_words_given_pos + log_P_pos) - (log_P_words_given_neg + log_P_neg)\n",
    "\n",
    "# to interpret classifier score: if positive, classifier thinks [comment] is more likely to score positively than \n",
    "# negatively. if negative,  [comment] more likely to score negatively than positively\n",
    "# the higher the positive number, the more likely the classifier thinks [comment] is to score positively, \n",
    "# and the lower the negative number, the more likely the classifier thinks [comment] is to score negatively"
   ]
  },
  {
   "cell_type": "code",
   "execution_count": 16,
   "metadata": {},
   "outputs": [],
   "source": [
    "def classify(sub):\n",
    "    #Classify all sampled comments for subreddit [sub]. Return an array containing: an array of classifier scores \n",
    "    #for positive comments, an array of classifier scores for negative comments, and four arrays containing comments \n",
    "    #with positive scores greater than 20, less than -20, negative scores greater than 20, less than -20 respectively.\n",
    "    p_greater20 = []\n",
    "    p_lessneg20 = [] \n",
    "    with open(sub + \"_pos_comms.txt\", \"r\")as inf:\n",
    "        pfile = inf.readlines()\n",
    "        classified_p = np.zeros(len(pfile))\n",
    "        for i, line in enumerate(pfile):\n",
    "            if line.strip() == \"\": \n",
    "                next\n",
    "            else:\n",
    "                c_score = classifier_score(line)\n",
    "                classified_p[i] = c_score\n",
    "                if c_score > 20:\n",
    "                    p_greater20.append((i, line))\n",
    "                if c_score < -20:\n",
    "                    p_lessneg20.append((i, line))\n",
    "\n",
    "    n_greater20 = []\n",
    "    n_lessneg20 = []\n",
    "    with open(sub + \"_neg_comms.txt\", \"r\")as inf:\n",
    "        nfile = inf.readlines()\n",
    "        classified_n = np.zeros(len(nfile))\n",
    "        for i, line in enumerate(nfile): \n",
    "            if line.strip() == \"\": \n",
    "                next\n",
    "            else:\n",
    "                c_score = classifier_score(line)\n",
    "                classified_n[i] = classifier_score(line)\n",
    "                if c_score > 20:\n",
    "                    n_greater20.append((i, line))\n",
    "                if c_score < -20:\n",
    "                    n_lessneg20.append((i, line))\n",
    "    return [classified_p, classified_n, p_greater20, p_lessneg20, n_greater20, n_lessneg20]\n",
    "\n",
    "#I included the arrays with \"outlier\" comments in case it would be interesting to look at the content of those comments. "
   ]
  },
  {
   "cell_type": "markdown",
   "metadata": {},
   "source": [
    "just to see, i try the classifier on the training set\n",
    "(should i try it on other posts from hillary, from earlier/later to see if its more accurate on those than ones from other subs?)"
   ]
  },
  {
   "cell_type": "markdown",
   "metadata": {},
   "source": [
    "## model validation"
   ]
  },
  {
   "cell_type": "code",
   "execution_count": 17,
   "metadata": {},
   "outputs": [],
   "source": [
    "#checking how the model performs on trained data\n",
    "classified_hillary = classify(\"hillaryclinton\")\n",
    "classified_hillary_p = classified_hillary[0]\n",
    "classified_hillary_n = classified_hillary[1]"
   ]
  },
  {
   "cell_type": "code",
   "execution_count": 18,
   "metadata": {},
   "outputs": [
    {
     "data": {
      "image/png": "[encoded data removed]",
      "text/plain": [
       "<Figure size 432x288 with 1 Axes>"
      ]
     },
     "metadata": {
      "needs_background": "light"
     },
     "output_type": "display_data"
    }
   ],
   "source": [
    "plt.hist(classified_hillary_p, bins=30, range=[-25,25])\n",
    "plt.show()"
   ]
  },
  {
   "cell_type": "markdown",
   "metadata": {},
   "source": [
    "good"
   ]
  },
  {
   "cell_type": "code",
   "execution_count": 19,
   "metadata": {},
   "outputs": [
    {
     "data": {
      "image/png": "[encoded data removed]",
      "text/plain": [
       "<Figure size 432x288 with 1 Axes>"
      ]
     },
     "metadata": {
      "needs_background": "light"
     },
     "output_type": "display_data"
    }
   ],
   "source": [
    "plt.hist(classified_hillary_n, bins=30, range=[-25,25])\n",
    "plt.show()"
   ]
  },
  {
   "cell_type": "markdown",
   "metadata": {},
   "source": [
    "not so good"
   ]
  },
  {
   "cell_type": "code",
   "execution_count": 20,
   "metadata": {},
   "outputs": [],
   "source": [
    "#checking how model performs on test data\n",
    "classified_hillary_t = classify(\"hillaryclinton_test\")\n",
    "classified_hillary_p_t = classified_hillary_t[0]\n",
    "classified_hillary_n_t = classified_hillary_t[1]"
   ]
  },
  {
   "cell_type": "code",
   "execution_count": 21,
   "metadata": {},
   "outputs": [
    {
     "data": {
      "image/png": "[encoded data removed]",
      "text/plain": [
       "<Figure size 432x288 with 1 Axes>"
      ]
     },
     "metadata": {
      "needs_background": "light"
     },
     "output_type": "display_data"
    },
    {
     "data": {
      "image/png": "[encoded data removed]",
      "text/plain": [
       "<Figure size 432x288 with 1 Axes>"
      ]
     },
     "metadata": {
      "needs_background": "light"
     },
     "output_type": "display_data"
    }
   ],
   "source": [
    "plt.hist(classified_hillary_p_t, bins=30, range=[-25,25])\n",
    "plt.show()\n",
    "plt.hist(classified_hillary_n_t, bins=30,)\n",
    "plt.show()"
   ]
  },
  {
   "cell_type": "markdown",
   "metadata": {},
   "source": [
    "performed pretty well on positively rated comments. horribly on negatively rated comments"
   ]
  },
  {
   "cell_type": "code",
   "execution_count": 22,
   "metadata": {},
   "outputs": [],
   "source": [
    "p_lab = [1 for x in range(len(classified_hillary_p_t))]\n",
    "n_lab = [-1 for x in range(len(classified_hillary_n_t))]\n",
    "p_lab.extend(n_lab)\n",
    "true_labels_p = np.array(p_lab)\n",
    "pt_lab = [1 if x >= 0 else -1 for x in classified_hillary_p_t]\n",
    "nt_lab = [1 if x >= 0 else -1 for x in classified_hillary_n_t]\n",
    "pt_lab.extend(nt_lab)\n",
    "predictions = np.array(pt_lab)"
   ]
  },
  {
   "cell_type": "code",
   "execution_count": 23,
   "metadata": {},
   "outputs": [
    {
     "data": {
      "text/plain": [
       "Text(0.5, 1.0, 'Hillary classifier validation')"
      ]
     },
     "execution_count": 23,
     "metadata": {},
     "output_type": "execute_result"
    },
    {
     "data": {
      "image/png": "[encoded data removed]",
      "text/plain": [
       "<Figure size 432x288 with 2 Axes>"
      ]
     },
     "metadata": {
      "needs_background": "light"
     },
     "output_type": "display_data"
    }
   ],
   "source": [
    "#making a heatmap to see how I did\n",
    "ticklabels = ['Negative', 'Positive']\n",
    "sns.heatmap(confusion_matrix(true_labels_p, predictions), annot=True, fmt='d', xticklabels=ticklabels, yticklabels=ticklabels)\n",
    "plt.xlabel('Predicted')\n",
    "plt.ylabel('Actual')\n",
    "plt.title('Hillary classifier validation')"
   ]
  },
  {
   "cell_type": "code",
   "execution_count": 24,
   "metadata": {},
   "outputs": [
    {
     "name": "stdout",
     "output_type": "stream",
     "text": [
      "for positives\n",
      "precision: 0.8092485549132948\n",
      "recall: 0.8849557522123894\n",
      "f1(accuracy): 0.8454106280193238\n"
     ]
    }
   ],
   "source": [
    "true_pos = 700\n",
    "true_neg = 49\n",
    "false_pos = 165\n",
    "false_neg = 91\n",
    "precision = true_pos/(true_pos + false_pos)\n",
    "recall = true_pos/(true_pos + false_neg)\n",
    "f1 = 2*((precision*recall)/(precision+recall)) # a measure of accuracy; integrating precision and recall\n",
    "print(\"for positives\")\n",
    "print(\"precision: \" + str(precision))\n",
    "print(\"recall: \" + str(recall))\n",
    "print (\"f1(accuracy): \" + str(f1))"
   ]
  },
  {
   "cell_type": "code",
   "execution_count": 25,
   "metadata": {},
   "outputs": [
    {
     "name": "stdout",
     "output_type": "stream",
     "text": [
      "for negatives\n",
      "precision: 0.35\n",
      "recall: 0.22897196261682243\n",
      "f1(accuracy): 0.2768361581920904\n"
     ]
    }
   ],
   "source": [
    "precision = true_neg/(true_neg + false_neg)\n",
    "recall = true_neg/(true_neg + false_pos)\n",
    "f1 = 2*((precision*recall)/(precision+recall)) # a measure of accuracy; integrating precision and recall\n",
    "print(\"for negatives\")\n",
    "print(\"precision: \" + str(precision))\n",
    "print(\"recall: \" + str(recall))\n",
    "print (\"f1(accuracy): \" + str(f1))"
   ]
  },
  {
   "cell_type": "markdown",
   "metadata": {},
   "source": [
    "confirming with numbers what we saw in the histograms: pretty good for positive comments (about 85% correct), dismal for negative comments (about 30% correct). These numbers are pretty similar between the Hillary and Donald classifiers as well. It may be a factor of how much smaller the negatively scored comments set (~1000) is compared with the positively scored comments (~4000)."
   ]
  },
  {
   "cell_type": "code",
   "execution_count": 26,
   "metadata": {
    "colab": {},
    "colab_type": "code",
    "id": "xZ63OPh1LkDK"
   },
   "outputs": [
    {
     "name": "stdout",
     "output_type": "stream",
     "text": [
      "negatively-scored comment in /r/the_donald:\n",
      "\"Just because there is noise in our models doesnt mean we cant estimate a trend How accurately we can predict short term weather doesnt really have anything to do with whether or not we can predict an overall long term trend\"\n",
      "classifier score:\n",
      "6.39717197208364\n",
      "\n",
      "positively-scored comment in /r/the_donald:\n",
      "\"the People of the United States in Order to form a more perfect Union establish Justice insure domestic Tranquility provide for the common defence promote the general Welfare and secure the Blessings of Liberty to ourselves and our Posterity do ordain and establish this Constitution for the United States of America\"\n",
      "classifier score:\n",
      "-10.687880687276845\n"
     ]
    }
   ],
   "source": [
    "#neg scored comment in the_donald\n",
    "d_neg = \"Just because there is noise in our models doesnt mean we cant estimate a trend How accurately we can predict short term weather doesnt really have anything to do with whether or not we can predict an overall long term trend\"\n",
    "print(\"negatively-scored comment in /r/the_donald:\")\n",
    "print(\"\\\"\" + d_neg + \"\\\"\")\n",
    "print(\"classifier score:\")\n",
    "print(classifier_score(d_neg))\n",
    "\n",
    "print(\"\")\n",
    "\n",
    "#pos scored comment in the_donald\n",
    "d_pos = \"the People of the United States in Order to form a more perfect Union establish Justice insure domestic Tranquility provide for the common defence promote the general Welfare and secure the Blessings of Liberty to ourselves and our Posterity do ordain and establish this Constitution for the United States of America\"\n",
    "print(\"positively-scored comment in /r/the_donald:\")\n",
    "print(\"\\\"\"+ d_pos + \"\\\"\")\n",
    "print(\"classifier score:\")\n",
    "print(classifier_score(d_pos))\n",
    "\n",
    "\n",
    "#I'm also assuming that it would make sense for negatively scoring comments in a polit sub to rate positively in\n",
    "#the opposing polit sub, but that's not necessarily true\n",
    "\n",
    "#one of the problems is that they talk about the same issues but have diff takes on it. they're discussing similar \n",
    "#concepts so maybe the worsd theyre using are similar too. \n",
    "#on the other hand though the language is different, exact word choice is different too. Maybe that's what my \n",
    "#classifier could help pick out.\n"
   ]
  },
  {
   "cell_type": "markdown",
   "metadata": {},
   "source": [
    "a positive classifier score means that the comment is more likely to be rated positively in r/hillaryclinton, and a negative score means the comment is more likely to be rated negatively.\n",
    "\n",
    "The comments I've sampled imply that negatively-rated r/the_donald comments would rate positively in r/hillaryclinton, and positively-rated r/the_donald comments would rate negatively in r/hillaryclinton. But I cherry-picked the comments above. These two comments seemed likely to be rated as they were, and so I used them to perform a basic test of my classifier. \n",
    "\n",
    "Below I classify every comment in r/the_donald in order to be more rigorous."
   ]
  },
  {
   "cell_type": "markdown",
   "metadata": {},
   "source": [
    "# Classifying comments from other subreddits"
   ]
  },
  {
   "cell_type": "code",
   "execution_count": 265,
   "metadata": {},
   "outputs": [],
   "source": [
    "classified_donald = classify(\"the_donald\")\n",
    "classified_donald_p = classified_donald[0]\n",
    "classified_donald_n = classified_donald[1]"
   ]
  },
  {
   "cell_type": "code",
   "execution_count": 266,
   "metadata": {},
   "outputs": [
    {
     "data": {
      "image/png": "[encoded data removed]",
      "text/plain": [
       "<Figure size 432x288 with 1 Axes>"
      ]
     },
     "metadata": {
      "needs_background": "light"
     },
     "output_type": "display_data"
    }
   ],
   "source": [
    "fig, ax=plt.subplots()\n",
    "ax.set(title = \"Hillary-classified r/the_donald comments (positively-scored)\", xlabel = \"Classifier score (log likelihood ratio)\", ylabel = \"Number of comments\")\n",
    "\n",
    "plt.hist(classified_donald_p, bins=30, range=[-25,25])\n",
    "plt.show()"
   ]
  },
  {
   "cell_type": "code",
   "execution_count": 267,
   "metadata": {},
   "outputs": [
    {
     "data": {
      "image/png": "[encoded data removed]",
      "text/plain": [
       "<Figure size 432x288 with 1 Axes>"
      ]
     },
     "metadata": {
      "needs_background": "light"
     },
     "output_type": "display_data"
    }
   ],
   "source": [
    "fig, ax=plt.subplots()\n",
    "ax.set(title = \"Hillary-classified r/the_donald comments (negatively-scored)\", xlabel = \"Classifier score (log likelihood ratio)\", ylabel = \"Number of comments\")\n",
    "\n",
    "plt.hist(classified_donald_n, bins=30, range=[-25,25])\n",
    "plt.show()"
   ]
  },
  {
   "cell_type": "markdown",
   "metadata": {},
   "source": [
    "oh god why do they look the same... is that ok? im not even sure. I know the scale is different but that doesn't really matter"
   ]
  },
  {
   "cell_type": "code",
   "execution_count": 268,
   "metadata": {},
   "outputs": [
    {
     "name": "stdout",
     "output_type": "stream",
     "text": [
      "1.5820830273036142\n",
      "2.1381647550031193\n"
     ]
    }
   ],
   "source": [
    "#print(classified_donald_p.sum())\n",
    "#print(classified_donald_n.sum())\n",
    "\n",
    "print(classified_donald_p.mean())\n",
    "print(classified_donald_n.mean())"
   ]
  },
  {
   "cell_type": "code",
   "execution_count": 269,
   "metadata": {},
   "outputs": [],
   "source": [
    "#\"control\" subreddit - ask reddit\n",
    "classified_askreddit = classify(\"askreddit\")\n",
    "classified_askreddit_p = classified_askreddit[0]\n",
    "classified_askreddit_n = classified_askreddit[1]"
   ]
  },
  {
   "cell_type": "code",
   "execution_count": 270,
   "metadata": {},
   "outputs": [
    {
     "name": "stdout",
     "output_type": "stream",
     "text": [
      "3.0709298767808875\n",
      "1.7299129937934947\n"
     ]
    }
   ],
   "source": [
    "print(classified_askreddit_p.mean())\n",
    "print(classified_askreddit_n.mean())"
   ]
  },
  {
   "cell_type": "code",
   "execution_count": 271,
   "metadata": {},
   "outputs": [
    {
     "data": {
      "image/png": "[encoded data removed]",
      "text/plain": [
       "<Figure size 432x288 with 1 Axes>"
      ]
     },
     "metadata": {
      "needs_background": "light"
     },
     "output_type": "display_data"
    }
   ],
   "source": [
    "fig, ax=plt.subplots()\n",
    "ax.set(title = \"Hillary-classified r/askreddit comments (positively-scored)\", xlabel = \"Classifier score (log likelihood ratio)\", ylabel = \"Number of comments\")\n",
    "plt.hist(classified_askreddit_p, bins=30, range=[-25,25])\n",
    "plt.show()"
   ]
  },
  {
   "cell_type": "code",
   "execution_count": 272,
   "metadata": {},
   "outputs": [
    {
     "data": {
      "image/png": "[encoded data removed]",
      "text/plain": [
       "<Figure size 432x288 with 1 Axes>"
      ]
     },
     "metadata": {
      "needs_background": "light"
     },
     "output_type": "display_data"
    }
   ],
   "source": [
    "fig, ax=plt.subplots()\n",
    "ax.set(title = \"Hillary-classified r/askreddit comments (negatively-scored)\", xlabel = \"Classifier score (log likelihood ratio)\", ylabel = \"Number of comments\")\n",
    "plt.hist(classified_askreddit_n, bins=30, range=[-25,25])\n",
    "plt.show()"
   ]
  }
 ],
 "metadata": {
  "colab": {
   "collapsed_sections": [],
   "name": "Problem Set 2.ipynb",
   "provenance": [],
   "toc_visible": true,
   "version": "0.3.2"
  },
  "kernelspec": {
   "display_name": "Python 3",
   "language": "python",
   "name": "python3"
  },
  "language_info": {
   "codemirror_mode": {
    "name": "ipython",
    "version": 3
   },
   "file_extension": ".py",
   "mimetype": "text/x-python",
   "name": "python",
   "nbconvert_exporter": "python",
   "pygments_lexer": "ipython3",
   "version": "3.7.0"
  }
 },
 "nbformat": 4,
 "nbformat_minor": 1
}
