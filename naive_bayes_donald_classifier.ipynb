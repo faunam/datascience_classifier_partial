{
 "cells": [
  {
   "cell_type": "code",
   "execution_count": 149,
   "metadata": {
    "colab": {},
    "colab_type": "code",
    "id": "rWj3GYr_wwuk"
   },
   "outputs": [],
   "source": [
    "import re\n",
    "import math\n",
    "from collections import Counter\n",
    "from functools import reduce \n",
    "import numpy as np\n",
    "from matplotlib import pyplot as plt\n",
    "import seaborn as sns\n",
    "from sklearn.metrics import confusion_matrix"
   ]
  },
  {
   "cell_type": "markdown",
   "metadata": {},
   "source": [
    "# Creating Naive Bayes classifier"
   ]
  },
  {
   "cell_type": "code",
   "execution_count": 150,
   "metadata": {
    "colab": {},
    "colab_type": "code",
    "id": "edaKNLd7LkBc"
   },
   "outputs": [],
   "source": [
    "# I reused some of the code from problem set 2 to make naive Bayes classifiers for Reddit comments \n",
    "# in a given community based on their valence (positive or negative net score).\n",
    "\n",
    "pos_comm_token_counts = Counter() #token counts for positive comments\n",
    "pos_comm_count = 0 #number of positive comments\n",
    "neg_comm_token_counts = Counter() #token counts for negative comments\n",
    "neg_comm_count = 0 #number of negative comments\n",
    "\n",
    "token_pattern = re.compile(\"\\w+\")\n",
    "\n",
    "d_pos_test_set = []\n",
    "d_neg_test_set = []"
   ]
  },
  {
   "cell_type": "code",
   "execution_count": 151,
   "metadata": {},
   "outputs": [],
   "source": [
    "with open(\"the_donald_pos_comms.txt\", \"r\")as inf:\n",
    "    #create positive comment and token counts\n",
    "    pfile = inf.readlines()\n",
    "    testing_lim = len(pfile) - (len(pfile) * .2)\n",
    "    for line in pfile: \n",
    "        if pos_comm_count >= testing_lim: #reserve 20% for testing\n",
    "            d_pos_test_set.append(line)\n",
    "        else: \n",
    "            pos_comm_token_counts.update(token_pattern.findall(line))\n",
    "            pos_comm_count += 1\n",
    "        \n",
    "  \n",
    "with open(\"the_donald_neg_comms.txt\", \"r\")as infn:\n",
    "    #create negative comment and token counts\n",
    "    nfile = infn.readlines()\n",
    "    testing_lim = len(nfile) - (len(nfile) * .2)\n",
    "    for line in nfile:\n",
    "        if neg_comm_count >= testing_lim: #reserve 20% for testing\n",
    "            d_neg_test_set.append(line)\n",
    "        else:\n",
    "            neg_comm_token_counts.update(token_pattern.findall(line))\n",
    "            neg_comm_count += 1"
   ]
  },
  {
   "cell_type": "code",
   "execution_count": 152,
   "metadata": {},
   "outputs": [],
   "source": [
    "# #write test arrays to files to feed into classify()\n",
    "# with open(\"the_donald_test_pos_comms.txt\", \"w\") as out: \n",
    "#     for x in d_pos_test_set:\n",
    "#         out.write(x)\n",
    "        \n",
    "# with open(\"the_donald_test_neg_comms.txt\", \"w\") as out: \n",
    "#     for x in d_neg_test_set:\n",
    "#         out.write(x)"
   ]
  },
  {
   "cell_type": "code",
   "execution_count": 153,
   "metadata": {
    "colab": {
     "base_uri": "https://localhost:8080/",
     "height": 34
    },
    "colab_type": "code",
    "id": "S6D6QshMLkBs",
    "outputId": "3833c475-00f1-465c-93a2-289ba27be82b"
   },
   "outputs": [
    {
     "name": "stdout",
     "output_type": "stream",
     "text": [
      "0.7783114256825076\n"
     ]
    }
   ],
   "source": [
    "P_pos = pos_comm_count/(pos_comm_count + neg_comm_count)\n",
    "print (P_pos)"
   ]
  },
  {
   "cell_type": "code",
   "execution_count": 154,
   "metadata": {
    "colab": {
     "base_uri": "https://localhost:8080/",
     "height": 51
    },
    "colab_type": "code",
    "id": "cIg2FMAQLkB6",
    "outputId": "3f3f19a9-44d4-4ac4-ef13-1050719ce936"
   },
   "outputs": [],
   "source": [
    "positive_tokens = sum(pos_comm_token_counts.values())\n",
    "negative_tokens = sum(neg_comm_token_counts.values())"
   ]
  },
  {
   "cell_type": "code",
   "execution_count": 155,
   "metadata": {
    "colab": {
     "base_uri": "https://localhost:8080/",
     "height": 374
    },
    "colab_type": "code",
    "id": "WvITgqUsLkCT",
    "outputId": "73b2e189-f0e4-4362-d14c-56a36b0816e9"
   },
   "outputs": [],
   "source": [
    "def word_log_prob(word, counter, summ):\n",
    "    if (counter[word]/summ) == 0: return 0\n",
    "    else: return math.log(counter[word]/summ)\n",
    "\n",
    "def comment_log_prob(phrase, counter, summ):\n",
    "    phrase_tokens = token_pattern.findall(phrase)\n",
    "    phrase_prob = reduce((lambda x, y: x+y), [word_log_prob(token, counter, summ) for token in phrase_tokens])  \n",
    "    return phrase_prob\n"
   ]
  },
  {
   "cell_type": "code",
   "execution_count": 156,
   "metadata": {},
   "outputs": [
    {
     "name": "stdout",
     "output_type": "stream",
     "text": [
      "*pos word probs*\n",
      "-9.364334995671273\n",
      "\n",
      "*neg word probs*\n",
      "-9.682778535337379\n"
     ]
    }
   ],
   "source": [
    "print (\"*pos word probs*\")\n",
    "print(word_log_prob(\"Bernie\", pos_comm_token_counts, positive_tokens))\n",
    "print (\"\\n*neg word probs*\")\n",
    "print(word_log_prob(\"Bernie\", neg_comm_token_counts, negative_tokens))\n",
    "#maybe try slurs? tried so far: sucks, wrong, bernie, maga"
   ]
  },
  {
   "cell_type": "code",
   "execution_count": 157,
   "metadata": {
    "colab": {
     "base_uri": "https://localhost:8080/",
     "height": 34
    },
    "colab_type": "code",
    "id": "baJt8IvNLkCd",
    "outputId": "8366e0bc-c38f-4eb6-a7dc-b274bf219460"
   },
   "outputs": [
    {
     "name": "stdout",
     "output_type": "stream",
     "text": [
      "19212\n"
     ]
    }
   ],
   "source": [
    "both_counts = pos_comm_token_counts + neg_comm_token_counts\n",
    "both_tokens = sum(both_counts.values())\n",
    "vocabulary_size = len(both_counts)\n",
    "print(vocabulary_size)"
   ]
  },
  {
   "cell_type": "code",
   "execution_count": 158,
   "metadata": {
    "colab": {
     "base_uri": "https://localhost:8080/",
     "height": 204
    },
    "colab_type": "code",
    "id": "LIdvYefiLkCk",
    "outputId": "4e980250-93c0-4532-f4e4-99a5f2e2bd38"
   },
   "outputs": [],
   "source": [
    "def smoothed_word_log_prob(word, counter, summ):\n",
    "    return math.log((counter[word] + 1)/(summ + vocabulary_size))\n",
    "\n",
    "def smoothed_comm_log_prob(phrase, counter, summ):\n",
    "    phrase_tokens = token_pattern.findall(phrase)\n",
    "    phrase_prob = reduce((lambda x, y: x+y), [smoothed_word_log_prob(token, counter, summ) for token in phrase_tokens])  \n",
    "    return phrase_prob"
   ]
  },
  {
   "cell_type": "code",
   "execution_count": 159,
   "metadata": {},
   "outputs": [],
   "source": [
    "log_P_pos = math.log(pos_comm_count/(pos_comm_count + neg_comm_count))\n",
    "log_P_neg = math.log(neg_comm_count/(pos_comm_count + neg_comm_count))\n",
    "\n",
    "def classifier_score(comment):\n",
    "    log_P_words_given_pos = smoothed_comm_log_prob(comment, pos_comm_token_counts, positive_tokens)\n",
    "    log_P_words_given_neg = smoothed_comm_log_prob(comment, neg_comm_token_counts, negative_tokens)\n",
    "    return (log_P_words_given_pos + log_P_pos) - (log_P_words_given_neg + log_P_neg)"
   ]
  },
  {
   "cell_type": "code",
   "execution_count": 160,
   "metadata": {},
   "outputs": [],
   "source": [
    "def classify(sub):\n",
    "    #Classify all sampled comments for subreddit [sub]. Return an array containing: an array of classifier scores \n",
    "    #for positive comments, an array of classifier scores for negative comments, and four arrays containing comments \n",
    "    #with positive scores greater than 20, less than -20, negative scores greater than 20, less than -20 respectively.\n",
    "    p_greater20 = []\n",
    "    p_lessneg20 = [] \n",
    "    with open(sub + \"_pos_comms.txt\", \"r\")as inf:\n",
    "        pfile = inf.readlines()\n",
    "        classified_p = np.zeros(len(pfile))\n",
    "        for i, line in enumerate(pfile):\n",
    "            if line.strip() == \"\": \n",
    "                next\n",
    "            else:\n",
    "                c_score = classifier_score(line)\n",
    "                classified_p[i] = c_score\n",
    "                if c_score > 20:\n",
    "                    p_greater20.append((i, line))\n",
    "                if c_score < -20:\n",
    "                    p_lessneg20.append((i, line))\n",
    "\n",
    "    n_greater20 = []\n",
    "    n_lessneg20 = []\n",
    "    with open(sub + \"_neg_comms.txt\", \"r\")as inf:\n",
    "        nfile = inf.readlines()\n",
    "        classified_n = np.zeros(len(nfile))\n",
    "        for i, line in enumerate(nfile): \n",
    "            if line.strip() == \"\": \n",
    "                next\n",
    "            else:\n",
    "                c_score = classifier_score(line)\n",
    "                classified_n[i] = classifier_score(line)\n",
    "                if c_score > 20:\n",
    "                    n_greater20.append((i, line))\n",
    "                if c_score < -20:\n",
    "                    n_lessneg20.append((i, line))\n",
    "    return [classified_p, classified_n, p_greater20, p_lessneg20, n_greater20, n_lessneg20]\n",
    "\n",
    "#I included the arrays with \"outlier\" comments in case it would be interesting to look at the content of those comments. "
   ]
  },
  {
   "cell_type": "markdown",
   "metadata": {},
   "source": [
    "## Model validation"
   ]
  },
  {
   "cell_type": "code",
   "execution_count": 161,
   "metadata": {},
   "outputs": [],
   "source": [
    "#checking how the model performs on trained data\n",
    "classified_donald = classify(\"the_donald\")\n",
    "classified_donald_p = classified_donald[0]\n",
    "classified_donald_n = classified_donald[1]"
   ]
  },
  {
   "cell_type": "code",
   "execution_count": 162,
   "metadata": {},
   "outputs": [
    {
     "data": {
      "image/png": "[encoded data removed]",
      "text/plain": [
       "<Figure size 432x288 with 1 Axes>"
      ]
     },
     "metadata": {
      "needs_background": "light"
     },
     "output_type": "display_data"
    },
    {
     "data": {
      "image/png": "[encoded data removed]",
      "text/plain": [
       "<Figure size 432x288 with 1 Axes>"
      ]
     },
     "metadata": {
      "needs_background": "light"
     },
     "output_type": "display_data"
    }
   ],
   "source": [
    "plt.hist(classified_donald_p, bins=30, range=[-25,25])\n",
    "plt.show()\n",
    "plt.hist(classified_donald_n, bins=30, range=[-25,25])\n",
    "plt.show()"
   ]
  },
  {
   "cell_type": "markdown",
   "metadata": {},
   "source": [
    "positive performed well, negative performed alright. "
   ]
  },
  {
   "cell_type": "code",
   "execution_count": 163,
   "metadata": {},
   "outputs": [],
   "source": [
    "#checking how model performs on test data\n",
    "classified_donald_t = classify(\"the_donald_test\")\n",
    "classified_donald_p_t = classified_donald_t[0]\n",
    "classified_donald_n_t = classified_donald_t[1]"
   ]
  },
  {
   "cell_type": "code",
   "execution_count": 164,
   "metadata": {},
   "outputs": [
    {
     "data": {
      "image/png": "[encoded data removed]",
      "text/plain": [
       "<Figure size 432x288 with 1 Axes>"
      ]
     },
     "metadata": {
      "needs_background": "light"
     },
     "output_type": "display_data"
    },
    {
     "data": {
      "image/png": "[encoded data removed]",
      "text/plain": [
       "<Figure size 432x288 with 1 Axes>"
      ]
     },
     "metadata": {
      "needs_background": "light"
     },
     "output_type": "display_data"
    }
   ],
   "source": [
    "plt.hist(classified_donald_p_t, bins=30, range=[-25,25])\n",
    "plt.show()\n",
    "plt.hist(classified_donald_n_t, bins=30, range=[-25,25])\n",
    "plt.show()"
   ]
  },
  {
   "cell_type": "markdown",
   "metadata": {},
   "source": [
    "Similarly to the Hillary classifier, performs well on positive and not so well on negative. "
   ]
  },
  {
   "cell_type": "code",
   "execution_count": 165,
   "metadata": {},
   "outputs": [],
   "source": [
    "p_lab = [1 for x in range(len(classified_donald_p_t))]\n",
    "n_lab = [-1 for x in range(len(classified_donald_n_t))]\n",
    "p_lab.extend(n_lab)\n",
    "true_labels_p = np.array(p_lab)\n",
    "pt_lab = [1 if x >= 0 else -1 for x in classified_donald_p_t]\n",
    "nt_lab = [1 if x >= 0 else -1 for x in classified_donald_n_t]\n",
    "pt_lab.extend(nt_lab)\n",
    "predictions = np.array(pt_lab)"
   ]
  },
  {
   "cell_type": "code",
   "execution_count": 166,
   "metadata": {},
   "outputs": [
    {
     "data": {
      "text/plain": [
       "Text(0.5, 1.0, 'Hillary classifier validation')"
      ]
     },
     "execution_count": 166,
     "metadata": {},
     "output_type": "execute_result"
    },
    {
     "data": {
      "image/png": "[encoded data removed]",
      "text/plain": [
       "<Figure size 432x288 with 2 Axes>"
      ]
     },
     "metadata": {
      "needs_background": "light"
     },
     "output_type": "display_data"
    }
   ],
   "source": [
    "ticklabels = ['Negative', 'Positive']\n",
    "sns.heatmap(confusion_matrix(true_labels_p, predictions), annot=True, fmt='d', xticklabels=ticklabels, yticklabels=ticklabels)\n",
    "plt.xlabel('Predicted')\n",
    "plt.ylabel('Actual')\n",
    "plt.title('Hillary classifier validation')"
   ]
  },
  {
   "cell_type": "code",
   "execution_count": 167,
   "metadata": {},
   "outputs": [
    {
     "name": "stdout",
     "output_type": "stream",
     "text": [
      "for positives\n",
      "precision: 0.8016826923076923\n",
      "recall: 0.8673602080624188\n",
      "f1(accuracy): 0.8332292317301686\n"
     ]
    }
   ],
   "source": [
    "true_pos = 667\n",
    "true_neg = 54\n",
    "false_pos = 165\n",
    "false_neg = 102\n",
    "precision = true_pos/(true_pos + false_pos)\n",
    "recall = true_pos/(true_pos + false_neg)\n",
    "f1 = 2*((precision*recall)/(precision+recall)) # a measure of accuracy; integrating precision and recall\n",
    "print(\"for positives\")\n",
    "print(\"precision: \" + str(precision))\n",
    "print(\"recall: \" + str(recall))\n",
    "print (\"f1(accuracy): \" + str(f1))"
   ]
  },
  {
   "cell_type": "code",
   "execution_count": 168,
   "metadata": {},
   "outputs": [
    {
     "name": "stdout",
     "output_type": "stream",
     "text": [
      "for positives\n",
      "precision: 0.34615384615384615\n",
      "recall: 0.2465753424657534\n",
      "f1(accuracy): 0.288\n"
     ]
    }
   ],
   "source": [
    "precision = true_neg/(true_neg + false_neg)\n",
    "recall = true_neg/(true_neg + false_pos)\n",
    "f1 = 2*((precision*recall)/(precision+recall)) # a measure of accuracy; integrating precision and recall\n",
    "print(\"for positives\")\n",
    "print(\"precision: \" + str(precision))\n",
    "print(\"recall: \" + str(recall))\n",
    "print (\"f1(accuracy): \" + str(f1))"
   ]
  },
  {
   "cell_type": "markdown",
   "metadata": {},
   "source": [
    "confirming with numbers what we saw in the histograms: pretty good for positive comments (about 80% correct), dismal for negative comments (about 30% correct). These numbers are pretty similar between the Hillary and Donald classifiers as well. It may be a factor of how much smaller the negatively scored comments set (~1000) is compared with the positively scored comments (~4000)."
   ]
  },
  {
   "cell_type": "markdown",
   "metadata": {},
   "source": [
    "# Classifying comments from other subreddits"
   ]
  },
  {
   "cell_type": "code",
   "execution_count": 169,
   "metadata": {},
   "outputs": [],
   "source": [
    "classified_hillary = classify(\"hillaryclinton\")\n",
    "classified_hillary_p = classified_hillary[0]\n",
    "classified_hillary_n = classified_hillary[1]"
   ]
  },
  {
   "cell_type": "code",
   "execution_count": 170,
   "metadata": {},
   "outputs": [
    {
     "data": {
      "image/png": "[encoded data removed]",
      "text/plain": [
       "<Figure size 432x288 with 1 Axes>"
      ]
     },
     "metadata": {
      "needs_background": "light"
     },
     "output_type": "display_data"
    }
   ],
   "source": [
    "fig, ax=plt.subplots()\n",
    "ax.set(title = \"Donald-classified r/hillaryclinton comments (positively-scored)\", xlabel = \"Classifier score (log likelihood ratio)\", ylabel = \"Number of comments\")\n",
    "plt.hist(classified_hillary_p, bins=30, range=[-25,25])\n",
    "plt.show()"
   ]
  },
  {
   "cell_type": "code",
   "execution_count": 171,
   "metadata": {},
   "outputs": [
    {
     "data": {
      "image/png": "[encoded data removed]",
      "text/plain": [
       "<Figure size 432x288 with 1 Axes>"
      ]
     },
     "metadata": {
      "needs_background": "light"
     },
     "output_type": "display_data"
    }
   ],
   "source": [
    "fig, ax=plt.subplots()\n",
    "ax.set(title = \"Donald-classified r/hillaryclinton comments (negatively-scored)\", xlabel = \"Classifier score (log likelihood ratio)\", ylabel = \"Number of comments\")\n",
    "plt.hist(classified_hillary_n, bins=30, range=[-25,25])\n",
    "plt.show()"
   ]
  },
  {
   "cell_type": "markdown",
   "metadata": {},
   "source": [
    "the distribution definitely looks different from the hillary distributions in the other file.. way more skewed to the right. i wonder why"
   ]
  },
  {
   "cell_type": "code",
   "execution_count": 172,
   "metadata": {},
   "outputs": [
    {
     "name": "stdout",
     "output_type": "stream",
     "text": [
      "4.510937002190476\n",
      "5.655862600319796\n"
     ]
    }
   ],
   "source": [
    "print(classified_hillary_p.mean())\n",
    "print(classified_hillary_n.mean())"
   ]
  },
  {
   "cell_type": "code",
   "execution_count": 173,
   "metadata": {},
   "outputs": [],
   "source": [
    "#\"control\" subreddit - ask reddit\n",
    "classified_askreddit = classify(\"askreddit\")\n",
    "classified_askreddit_p = classified_askreddit[0]\n",
    "classified_askreddit_n = classified_askreddit[1]"
   ]
  },
  {
   "cell_type": "code",
   "execution_count": 174,
   "metadata": {},
   "outputs": [
    {
     "data": {
      "image/png": "[encoded data removed]",
      "text/plain": [
       "<Figure size 432x288 with 1 Axes>"
      ]
     },
     "metadata": {
      "needs_background": "light"
     },
     "output_type": "display_data"
    }
   ],
   "source": [
    "fig, ax=plt.subplots()\n",
    "ax.set(title = \"Donald-classified r/askreddit comments (positively-scored)\", xlabel = \"Classifier score (log likelihood ratio)\", ylabel = \"Number of comments\")\n",
    "plt.hist(classified_askreddit_p, bins=30, range=[-25,25])\n",
    "plt.show()"
   ]
  },
  {
   "cell_type": "code",
   "execution_count": 175,
   "metadata": {},
   "outputs": [
    {
     "data": {
      "image/png": "[encoded data removed]",
      "text/plain": [
       "<Figure size 432x288 with 1 Axes>"
      ]
     },
     "metadata": {
      "needs_background": "light"
     },
     "output_type": "display_data"
    }
   ],
   "source": [
    "fig, ax=plt.subplots()\n",
    "ax.set(title = \"Donald-classified r/askreddit comments (negatively-scored)\", xlabel = \"Classifier score (log likelihood ratio)\", ylabel = \"Number of comments\")\n",
    "plt.hist(classified_askreddit_n, bins=30, range=[-25,25])\n",
    "plt.show()"
   ]
  },
  {
   "cell_type": "code",
   "execution_count": 176,
   "metadata": {},
   "outputs": [
    {
     "name": "stdout",
     "output_type": "stream",
     "text": [
      "4.6981029019621205\n",
      "3.441712761169465\n"
     ]
    }
   ],
   "source": [
    "print(classified_askreddit_p.mean())\n",
    "print(classified_askreddit_n.mean())"
   ]
  },
  {
   "cell_type": "markdown",
   "metadata": {},
   "source": [
    "## Exploring topics of comments with outlying classification scores"
   ]
  },
  {
   "cell_type": "markdown",
   "metadata": {},
   "source": [
    "There were quite a few comments from other subreddits that were rated above 20 or below -20 by a classifier. I was curious about why these comments got such outlying scores, but there were too many to go through by hand. Perfect use case for topic models, though (although the comments are a bit short for topic modelling; 20 or more words). Unfortunately as you will see, the modeling does not elucidate much."
   ]
  },
  {
   "cell_type": "code",
   "execution_count": 177,
   "metadata": {},
   "outputs": [],
   "source": [
    "def composition_matrix(sub, valence):\n",
    "    #sub is subreddit, valence is \"pos\" or \"neg\"\n",
    "    #Return a matrix containing the topic composition of each comment in [sub], [valence]. Shape:(num comments, 20) \n",
    "    with open(sub + \"_\"+ valence + \"_commscomp.txt\", \"r\") as inf:\n",
    "        all_props = inf.readlines()\n",
    "        doc_topics = np.zeros((len(all_props), 20))\n",
    "        for i, idx in enumerate(all_props[1:]):\n",
    "            row = idx.split(\"\\t\")[2:]\n",
    "            doc_topics[i,:] = row\n",
    "    return doc_topics"
   ]
  },
  {
   "cell_type": "code",
   "execution_count": 178,
   "metadata": {},
   "outputs": [],
   "source": [
    "hillary_pos_comp = composition_matrix(\"hillaryclinton\", \"pos\")\n",
    "hillary_neg_comp = composition_matrix(\"hillaryclinton\", \"neg\")\n",
    "h_pos_ln20_indeces = [i for (i,x) in classified_hillary[3]]\n",
    "h_neg_g20_indeces = [i for (i,x) in classified_hillary[4]]"
   ]
  },
  {
   "cell_type": "code",
   "execution_count": 179,
   "metadata": {},
   "outputs": [],
   "source": [
    "h_neg_g20_comp = [] #positively scored hillary comments rated greater than 20 by the classifier\n",
    "for i, x in enumerate (hillary_neg_comp):\n",
    "    if i in h_neg_g20_indeces:\n",
    "        h_neg_g20_comp.append(x)\n",
    "h_neg_g20_comp = np.array(h_neg_g20_comp)\n",
    "\n",
    "h_pos_ln20_comp = [] #negatively scored hillary comments rated less than -20 by the classifier\n",
    "for i, x in enumerate (hillary_pos_comp):\n",
    "    if i in h_pos_ln20_indeces:\n",
    "        h_pos_ln20_comp.append(x)\n",
    "h_pos_ln20_comp = np.array(h_pos_ln20_comp)"
   ]
  },
  {
   "cell_type": "code",
   "execution_count": 180,
   "metadata": {},
   "outputs": [
    {
     "data": {
      "image/png": "[encoded data removed]",
      "text/plain": [
       "<Figure size 432x288 with 1 Axes>"
      ]
     },
     "metadata": {
      "needs_background": "light"
     },
     "output_type": "display_data"
    }
   ],
   "source": [
    "fig, ax=plt.subplots()\n",
    "ax.bar(np.arange(20), np.mean(h_neg_g20_comp, axis=0))\n",
    "plt.xticks(np.arange(20), np.arange(20))\n",
    "ax.set(title = \"Mean topic composition of negatively-scored comments rated above 20 in r/hillaryclinton\", xlabel = \"Topic\", \\\n",
    "       ylabel = \"Text topic composition(%)\")\n",
    "plt.show()"
   ]
  },
  {
   "cell_type": "code",
   "execution_count": 181,
   "metadata": {},
   "outputs": [
    {
     "data": {
      "image/png": "[encoded data removed]",
      "text/plain": [
       "<Figure size 432x288 with 1 Axes>"
      ]
     },
     "metadata": {
      "needs_background": "light"
     },
     "output_type": "display_data"
    }
   ],
   "source": [
    "fig, ax=plt.subplots()\n",
    "ax.bar(np.arange(20), np.mean(h_pos_ln20_comp, axis=0))\n",
    "plt.xticks(np.arange(20), np.arange(20))\n",
    "ax.set(title = \"Mean topic composition of positively-scored comments rated less than -20 in r/hillaryclinton\", xlabel = \"Topic\", \\\n",
    "       ylabel = \"Text topic composition(%)\")\n",
    "plt.show()"
   ]
  },
  {
   "cell_type": "markdown",
   "metadata": {},
   "source": [
    "Not much difference in topic distribution between positively-rated r/hillary comments rated less than -20 and negatively-rated r/hillary comments rated greater than 20. The changes are pretty small."
   ]
  }
 ],
 "metadata": {
  "colab": {
   "collapsed_sections": [],
   "name": "Problem Set 2.ipynb",
   "provenance": [],
   "toc_visible": true,
   "version": "0.3.2"
  },
  "kernelspec": {
   "display_name": "Python 3",
   "language": "python",
   "name": "python3"
  },
  "language_info": {
   "codemirror_mode": {
    "name": "ipython",
    "version": 3
   },
   "file_extension": ".py",
   "mimetype": "text/x-python",
   "name": "python",
   "nbconvert_exporter": "python",
   "pygments_lexer": "ipython3",
   "version": "3.7.0"
  }
 },
 "nbformat": 4,
 "nbformat_minor": 1
}
